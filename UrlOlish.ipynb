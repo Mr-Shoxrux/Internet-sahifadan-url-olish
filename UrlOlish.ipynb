{
 "cells": [
  {
   "cell_type": "markdown",
   "id": "a157d559-c772-4958-b3a6-2143148e6a77",
   "metadata": {},
   "source": [
    "# So'ngi yangiliklar"
   ]
  },
  {
   "cell_type": "code",
   "execution_count": 1,
   "id": "8c38b713-8189-4e54-be2f-d658257a3993",
   "metadata": {},
   "outputs": [],
   "source": [
    "import requests\n",
    "from bs4 import BeautifulSoup\n",
    "import os\n",
    "import pandas as pd\n"
   ]
  },
  {
   "cell_type": "code",
   "execution_count": 7,
   "id": "c6dbf843-d677-41a5-a9b7-68c1cbdb3e47",
   "metadata": {},
   "outputs": [],
   "source": [
    "kunid=1630932185\n",
    "url = 'https://kun.uz/news/list'\n",
    "response = requests.get(url)\n",
    "soup = BeautifulSoup(response.text, 'lxml')\n",
    "quotes = soup.find('div', class_=\"daily-news max-w\").find_all(href=True)\n",
    "links_kun=[]\n",
    "check_url=[]\n",
    "for quote in quotes:\n",
    "    link = \"https://kun.uz\"+quote['href']\n",
    "    links_kun.append(link)\n",
    "    check_url.append(link)"
   ]
  },
  {
   "cell_type": "code",
   "execution_count": 8,
   "id": "82d2b17a-575a-45a8-86ca-9f8313c54beb",
   "metadata": {},
   "outputs": [
    {
     "name": "stdout",
     "output_type": "stream",
     "text": [
      "212471\n"
     ]
    }
   ],
   "source": [
    "while(True):\n",
    "    url = 'https://kun.uz/news/list?f=latest&next='+str(kunid)\n",
    "    kunid=kunid-5000\n",
    "    response = requests.get(url)\n",
    "    soup = BeautifulSoup(response.text, 'lxml')\n",
    "    quotes = soup.find('div', class_=\"daily-news max-w\").find_all(href=True)\n",
    "    for quote in quotes:\n",
    "        link = \"https://kun.uz\"+quote['href']\n",
    "        if link not in check_url:\n",
    "            if len(check_url)>55:\n",
    "                check_url.pop(0)\n",
    "            check_url.append(link)\n",
    "            links_kun.append(link)\n",
    "            \n",
    "    if kunid < 1000000000:\n",
    "        break\n",
    "print(len(links_kun))"
   ]
  },
  {
   "cell_type": "code",
   "execution_count": 10,
   "id": "49e27c96-3dd9-410d-bd89-9695aca45e40",
   "metadata": {},
   "outputs": [],
   "source": [
    "pd.DataFrame(links_kun).to_csv('links_kun.csv',index=False)       "
   ]
  },
  {
   "cell_type": "markdown",
   "id": "3011a479-6c63-4cb4-8890-1cde074785c0",
   "metadata": {},
   "source": [
    "# Ma'lumotlarni olish"
   ]
  },
  {
   "cell_type": "code",
   "execution_count": null,
   "id": "83d9ff23-c1a4-4092-abdd-7255f07fbd85",
   "metadata": {},
   "outputs": [],
   "source": [
    "links_kun = pd.read_csv('links_kun.csv')       "
   ]
  },
  {
   "cell_type": "code",
   "execution_count": null,
   "id": "d42d1c34-323a-4e17-9451-4be741490adc",
   "metadata": {},
   "outputs": [],
   "source": [
    "sikl=0\n",
    "for i in range(0,links_kun.shape[0]):\n",
    "    try:\n",
    "        response_link = requests.get(links_kun.iloc[i,0])\n",
    "        soup_link = BeautifulSoup(response_link.text, 'lxml')\n",
    "        quotes_title = soup_link.find('div',class_=\"single-header__title\")  \n",
    "        quotes_text = soup_link.find('div',class_=\"single-content\")     \n",
    "\n",
    "        with open(os.path.join('baza_kun','out'+str(sikl)+'.txt'), 'w', encoding=\"utf-8\") as f:\n",
    "            f.write(quotes_title.text+quotes_text.text)\n",
    "            f.close()\n",
    "        sikl=sikl+1\n",
    "    except Exception as ex:\n",
    "        pass"
   ]
  },
  {
   "cell_type": "code",
   "execution_count": null,
   "id": "19edc9aa-ea74-4595-9bcb-90a5288b0fe7",
   "metadata": {},
   "outputs": [],
   "source": [
    "text=''\n",
    "for i in range(167201):\n",
    "    f=open(\"baza_kun/out\"+str(i)+\".txt\",\"r\", encoding=\"utf-8\")\n",
    "    lines=f.readlines()\n",
    "    for line in range(len(lines)):\n",
    "        lines[line]=lines[line].replace(\"\\xa0\",\"\")\n",
    "        if line == 0:\n",
    "            j=-2\n",
    "            while True:\n",
    "                if lines[line][j].isalpha():\n",
    "                    lines[line]=lines[line][:j+1]+'.\\n'\n",
    "                    break\n",
    "                j-=1\n",
    "        if lines[line] != '\\n' and lines[line] != '\\n\\n' and lines[line].find(\"Фото:\") == -1 :\n",
    "            text+=lines[line]\n",
    "    if (i+1) % 100 == 0:\n",
    "        with open('kuns_'+str((i+1)//100)+'.txt', 'w', encoding=\"utf-8\") as ff:\n",
    "            ff.writelines(text)\n",
    "            ff.close()\n",
    "    "
   ]
  },
  {
   "cell_type": "code",
   "execution_count": null,
   "id": "16e97fc7-b05c-4ea0-86fe-57c7f8dfcf0c",
   "metadata": {},
   "outputs": [],
   "source": []
  }
 ],
 "metadata": {
  "kernelspec": {
   "display_name": "Python 3",
   "language": "python",
   "name": "python3"
  },
  "language_info": {
   "codemirror_mode": {
    "name": "ipython",
    "version": 3
   },
   "file_extension": ".py",
   "mimetype": "text/x-python",
   "name": "python",
   "nbconvert_exporter": "python",
   "pygments_lexer": "ipython3",
   "version": "3.8.11"
  }
 },
 "nbformat": 4,
 "nbformat_minor": 5
}
